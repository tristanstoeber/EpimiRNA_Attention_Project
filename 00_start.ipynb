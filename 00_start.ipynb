{
 "cells": [
  {
   "cell_type": "markdown",
   "id": "938e72bd-0b78-4afe-8e61-d1e3c4d5c19c",
   "metadata": {},
   "source": [
    "# Characterizing the Hidden Structure of Emerging Epilepsy with Transformers\n",
    "\n",
    "Outline:\n",
    "- Embed 1s snippets with Contrastive Learning\n",
    "- Train Transformer to predict next embedding based on past\n",
    "- Group embeddings into few categories\n",
    "- Analyse Attention matrix to understand interactions among pattens"
   ]
  },
  {
   "cell_type": "code",
   "execution_count": null,
   "id": "641a77f1-5d6e-47f2-90fa-3044cbf75c89",
   "metadata": {},
   "outputs": [],
   "source": []
  }
 ],
 "metadata": {
  "kernelspec": {
   "display_name": "Python 3 (ipykernel)",
   "language": "python",
   "name": "python3"
  },
  "language_info": {
   "codemirror_mode": {
    "name": "ipython",
    "version": 3
   },
   "file_extension": ".py",
   "mimetype": "text/x-python",
   "name": "python",
   "nbconvert_exporter": "python",
   "pygments_lexer": "ipython3",
   "version": "3.12.10"
  }
 },
 "nbformat": 4,
 "nbformat_minor": 5
}
